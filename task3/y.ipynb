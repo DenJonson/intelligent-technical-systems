{
 "cells": [
  {
   "cell_type": "code",
   "execution_count": 2,
   "metadata": {},
   "outputs": [
    {
     "name": "stdout",
     "output_type": "stream",
     "text": [
      "[array([[1, 'EWR', 'Newark Airport', 'EWR'],\n",
      "       [2, 'Queens', 'Jamaica Bay', 'Boro Zone'],\n",
      "       [3, 'Bronx', 'Allerton/Pelham Gardens', 'Boro Zone'],\n",
      "       ...,\n",
      "       [263, 'Manhattan', 'Yorkville West', 'Yellow Zone'],\n",
      "       [264, 'Unknown', 'NV', nan],\n",
      "       [265, 'Unknown', nan, nan]], dtype=object)]\n"
     ]
    }
   ],
   "source": [
    "import numpy as np\n",
    "import pandas as pd\n",
    "\n",
    "class NNClassifier:\n",
    "  def __init__ (self):\n",
    "    pass\n",
    "  \n",
    "  classList = []\n",
    "  \n",
    "  def addClass(self, path):\n",
    "    f = pd.read_csv(path)\n",
    "    f = np.array(f)\n",
    "    self.classList.append(f)\n",
    "    \n",
    "\n",
    "Classifier = NNClassifier()\n",
    "\n",
    "Classifier.addClass(\"taxi_zone_lookup.csv\")\n",
    "print(Classifier.classList)"
   ]
  }
 ],
 "metadata": {
  "kernelspec": {
   "display_name": "Python 3.9.12 ('base')",
   "language": "python",
   "name": "python3"
  },
  "language_info": {
   "codemirror_mode": {
    "name": "ipython",
    "version": 3
   },
   "file_extension": ".py",
   "mimetype": "text/x-python",
   "name": "python",
   "nbconvert_exporter": "python",
   "pygments_lexer": "ipython3",
   "version": "3.9.12"
  },
  "orig_nbformat": 4,
  "vscode": {
   "interpreter": {
    "hash": "315520de32c5e12664aefd1bc9ed909764f9dee3450ed92151dd931576f30d47"
   }
  }
 },
 "nbformat": 4,
 "nbformat_minor": 2
}
